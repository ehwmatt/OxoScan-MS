{
 "cells": [
  {
   "cell_type": "markdown",
   "metadata": {},
   "source": [
    "# Analysis of COVID-19 Cohort by OxoScan-MS"
   ]
  },
  {
   "cell_type": "code",
   "execution_count": 1,
   "metadata": {},
   "outputs": [],
   "source": [
    "import os\n",
    "import glycoproteomics\n",
    "import numpy as np\n",
    "import matplotlib.pyplot as plt\n",
    "%matplotlib inline\n",
    "#import matplotlib_inline\n",
    "from pprint import pprint\n",
    "#matplotlib_inline.backend_inline.set_matplotlib_formats(\"png\")\n",
    "figure_size = (8, 4)\n",
    "dpi = 100\n",
    "\n"
   ]
  },
  {
   "cell_type": "markdown",
   "metadata": {},
   "source": [
    "Set/toggle parameters for analysis"
   ]
  },
  {
   "cell_type": "code",
   "execution_count": 2,
   "metadata": {},
   "outputs": [],
   "source": [
    "spectra_directory = \"/camp/lab/ralserm/working/Matt/Glyco/Micro/Kuebler_2/Data/Kuebler_AllRep\" ### file directory to read from\n",
    "\n",
    "### Pre-alignment normalisation\n",
    "normalise_before_alignment = True ### should each sample be normalised before RT alignment (does not affect quantification)\n",
    "\n",
    "### RT filtering \n",
    "filter_rt = True\n",
    "\n",
    "max_rt = 23.5 \n",
    "min_rt = 5.5\n",
    "\n",
    "### Binning \n",
    "rt_x_bin_size = 0.025\n",
    "mz_y_bin_size = 2.0\n",
    "\n",
    "### Peak calling \n",
    "top_N_peaks = 2500\n",
    "\n",
    "### Peak quantification ellipse\n",
    "x_radius = rt_x_bin_size * 3.0\n",
    "y_radius = mz_y_bin_size * 5.0\n",
    "\n",
    "\n",
    "### Peak exclusion ellipse (within which the centre of another peak will not be called)\n",
    "x_radius_exclude = x_radius * 3.0\n",
    "y_radius_exclude = y_radius * 2.0\n",
    "\n",
    "### Output filename\n",
    "filename = \"20220212_Kuebler_AllIons_PreNormalise_RT3_mz5_RTExclude3_mzExclude2.tsv\"\n",
    "\n"
   ]
  },
  {
   "cell_type": "markdown",
   "metadata": {},
   "source": [
    "Read in all spectra from folder:"
   ]
  },
  {
   "cell_type": "code",
   "execution_count": 3,
   "metadata": {
    "tags": []
   },
   "outputs": [
    {
     "name": "stdout",
     "output_type": "stream",
     "text": [
      "['20210702_Kuebler_133_P2_G11_CV-64_3.wiff.dia.extracted.txt',\n",
      " '20210702_Kuebler_164_P2_B1_PlasmaPooled_10.wiff.dia.extracted.txt',\n",
      " '20210702_Kuebler_158_P2_A11_CV-19D_3.wiff.dia.extracted.txt',\n",
      " '20210702_Kuebler_123_P2_D5_HD-11_3.wiff.dia.extracted.txt',\n",
      " '20210702_Kuebler_84_P1_B12_CV-8_2.wiff.dia.extracted.txt',\n",
      " '20210702_Kuebler_66_P2_G4_CV-1_2.wiff.dia.extracted.txt',\n",
      " '20210702_Kuebler_86_P1_C10_CV-61_2.wiff.dia.extracted.txt',\n",
      " '20210702_Kuebler_21_P1_E5_HD-14_1.wiff.dia.extracted.txt',\n",
      " '20210702_Kuebler_162_P2_A12_HD-7_3.wiff.dia.extracted.txt',\n",
      " '20210702_Kuebler_12_P1_G8_CV-1_1.wiff.dia.extracted.txt',\n",
      " '20210702_Kuebler_78_P1_H10_CV-62_2.wiff.dia.extracted.txt',\n",
      " '20210702_Kuebler_2_P2_B1_PlasmaPooled_1.wiff.dia.extracted.txt',\n",
      " '20210702_Kuebler_112_P2_E11_CV-58_3.wiff.dia.extracted.txt',\n",
      " '20210702_Kuebler_53_P1_A4_HD-5_1.wiff.dia.extracted.txt',\n",
      " '20210702_Kuebler_126_P2_C8_CV-63_3.wiff.dia.extracted.txt',\n",
      " '20210702_Kuebler_48_P1_G2_HD-13_1.wiff.dia.extracted.txt',\n",
      " '20210702_Kuebler_106_P1_A11_CV-57_2.wiff.dia.extracted.txt',\n",
      " '20210702_Kuebler_116_P2_F6_CV-25_3.wiff.dia.extracted.txt',\n",
      " '20210702_Kuebler_125_P2_F12_Plasma-09_3.wiff.dia.extracted.txt',\n",
      " '20210702_Kuebler_NA_P2_E10_Blank_6.wiff.dia.extracted.txt',\n",
      " '20210702_Kuebler_35_P1_F3_CV-66_1.wiff.dia.extracted.txt',\n",
      " '20210702_Kuebler_65_P2_D4_HD-4B_2.wiff.dia.extracted.txt',\n",
      " '20210702_Kuebler_124_P2_H7_CV-16_3.wiff.dia.extracted.txt',\n",
      " '20210702_Kuebler_69_P1_D9_HD-11_2.wiff.dia.extracted.txt',\n",
      " '20210702_Kuebler_120_P2_G12_CV-1_3.wiff.dia.extracted.txt',\n",
      " '20210702_Kuebler_130_P2_D11_CV-48_3.wiff.dia.extracted.txt',\n",
      " '20210702_Kuebler_150_P2_B6_CV-65_3.wiff.dia.extracted.txt',\n",
      " '20210702_Kuebler_23_P1_F6_CV-59_1.wiff.dia.extracted.txt',\n",
      " '20210702_Kuebler_14_P1_E4_CV-49_1.wiff.dia.extracted.txt',\n",
      " '20210702_Kuebler_98_P2_C1_CV-11F_2.wiff.dia.extracted.txt',\n",
      " '20210702_Kuebler_15_P1_D1_HD-11_1.wiff.dia.extracted.txt',\n",
      " '20210702_Kuebler_49_P1_C8_HD-15_1.wiff.dia.extracted.txt',\n",
      " '20210702_Kuebler_160_P2_A7_CV-57_3.wiff.dia.extracted.txt',\n",
      " '20210702_Kuebler_24_P1_H2_CV-62_1.wiff.dia.extracted.txt',\n",
      " '20210702_Kuebler_128_P2_B1_PlasmaPooled_8.wiff.dia.extracted.txt',\n",
      " '20210702_Kuebler_122_P2_E8_CV-49_3.wiff.dia.extracted.txt',\n",
      " '20210702_Kuebler_140_P2_C6_CV-61_3.wiff.dia.extracted.txt',\n",
      " '20210702_Kuebler_67_P2_B4_CV-75_2.wiff.dia.extracted.txt',\n",
      " '20210702_Kuebler_137_P2_G8_CV-13_3.wiff.dia.extracted.txt',\n",
      " '20210702_Kuebler_88_P1_C11_CV-9_2.wiff.dia.extracted.txt',\n",
      " '20210702_Kuebler_157_P2_C12_HD-15_3.wiff.dia.extracted.txt',\n",
      " '20210702_Kuebler_3_P1_G1_HD-1B_1.wiff.dia.extracted.txt',\n",
      " '20210702_Kuebler_85_P2_G2_Plasma-02_2.wiff.dia.extracted.txt',\n",
      " '20210702_Kuebler_148_P2_H10_CV-35_3.wiff.dia.extracted.txt',\n",
      " '20210702_Kuebler_101_P2_F3_CV-33_2.wiff.dia.extracted.txt',\n",
      " '20210702_Kuebler_63_P2_H1_CV-37_2.wiff.dia.extracted.txt',\n",
      " '20210702_Kuebler_138_P2_B8_CV-8_3.wiff.dia.extracted.txt',\n",
      " '20210702_Kuebler_4_P1_E7_CV-58_1.wiff.dia.extracted.txt',\n",
      " '20210702_Kuebler_118_P2_E10_CV-50_3.wiff.dia.extracted.txt',\n",
      " '20210702_Kuebler_111_P2_G5_HD-1B_3.wiff.dia.extracted.txt',\n",
      " '20210702_Kuebler_161_P2_A8_HD-5_3.wiff.dia.extracted.txt',\n",
      " '20210702_Kuebler_54_P1_A8_HD-7_1.wiff.dia.extracted.txt',\n",
      " '20210702_Kuebler_102_P1_G10_HD-13_2.wiff.dia.extracted.txt',\n",
      " '20210702_Kuebler_NA_P2_E10_Blank_5.wiff.dia.extracted.txt',\n",
      " '20210702_Kuebler_82_P1_D11_HD-2B_2.wiff.dia.extracted.txt',\n",
      " '20210702_Kuebler_104_P2_A3_CV-19D_2.wiff.dia.extracted.txt',\n",
      " '20210702_Kuebler_38_P2_B1_PlasmaPooled_3.wiff.dia.extracted.txt',\n",
      " '20210702_Kuebler_44_P1_C5_CV-11F_1.wiff.dia.extracted.txt',\n",
      " '20210702_Kuebler_NA_P2_E10_Blank_7.wiff.dia.extracted.txt',\n",
      " '20210702_Kuebler_58_P2_E3_CV-58_2.wiff.dia.extracted.txt',\n",
      " '20210702_Kuebler_28_P1_D3_HD-2B_1.wiff.dia.extracted.txt',\n",
      " '20210702_Kuebler_132_P2_H6_CV-62_3.wiff.dia.extracted.txt',\n",
      " '20210702_Kuebler_10_P1_E6_CV-50_1.wiff.dia.extracted.txt',\n",
      " '20210702_Kuebler_151_P2_B11_CV-38_3.wiff.dia.extracted.txt',\n",
      " '20210702_Kuebler_60_P2_E4_CV-32_2.wiff.dia.extracted.txt',\n",
      " '20210702_Kuebler_50_P1_A7_CV-19D_1.wiff.dia.extracted.txt',\n",
      " '20210702_Kuebler_77_P2_F2_CV-59_2.wiff.dia.extracted.txt',\n",
      " '20210702_Kuebler_26_P1_A1_CV-24C_1.wiff.dia.extracted.txt',\n",
      " '20210702_Kuebler_29_P1_G4_CV-13_1.wiff.dia.extracted.txt',\n",
      " '20210702_Kuebler_129_P2_E9_HD-14_3.wiff.dia.extracted.txt',\n",
      " '20210702_Kuebler_136_P2_D7_HD-2B_3.wiff.dia.extracted.txt',\n",
      " '20210702_Kuebler_NA_P2_E10_Blank_4.wiff.dia.extracted.txt',\n",
      " '20210702_Kuebler_113_P2_D8_HD-8_3.wiff.dia.extracted.txt',\n",
      " '20210702_Kuebler_131_P2_F10_CV-59_3.wiff.dia.extracted.txt',\n",
      " '20210702_Kuebler_96_P1_B10_CV-65_2.wiff.dia.extracted.txt',\n",
      " '20210702_Kuebler_115_P2_B10_HD-9_3.wiff.dia.extracted.txt',\n",
      " '20210702_Kuebler_79_P2_G3_CV-64_2.wiff.dia.extracted.txt',\n",
      " '20210702_Kuebler_80_P1_A9_CV-24C_2.wiff.dia.extracted.txt',\n",
      " '20210702_Kuebler_31_P1_G6_Plasma-02_1.wiff.dia.extracted.txt',\n",
      " '20210702_Kuebler_107_P1_A12_HD-5_2.wiff.dia.extracted.txt',\n",
      " '20210702_Kuebler_51_P1_B3_HD-12_1.wiff.dia.extracted.txt',\n",
      " '20210702_Kuebler_83_P1_G12_CV-13_2.wiff.dia.extracted.txt',\n",
      " '20210702_Kuebler_52_P1_A3_CV-57_1.wiff.dia.extracted.txt',\n",
      " '20210702_Kuebler_146_P2_B1_PlasmaPooled_9.wiff.dia.extracted.txt',\n",
      " '20210702_Kuebler_13_P1_B8_CV-75_1.wiff.dia.extracted.txt',\n",
      " '20210702_Kuebler_119_P2_D12_HD-4B_3.wiff.dia.extracted.txt',\n",
      " '20210702_Kuebler_18_P1_C4_CV-63_1.wiff.dia.extracted.txt',\n",
      " '20210702_Kuebler_NA_P2_E10_Blank_3.wiff.dia.extracted.txt',\n",
      " '20210702_Kuebler_134_P2_A5_CV-24C_3.wiff.dia.extracted.txt',\n",
      " '20210702_Kuebler_152_P2_C9_CV-11F_3.wiff.dia.extracted.txt',\n",
      " '20210702_Kuebler_46_P1_D2_CV-60_1.wiff.dia.extracted.txt',\n",
      " '20210702_Kuebler_34_P1_C3_CV-9_1.wiff.dia.extracted.txt',\n",
      " '20210702_Kuebler_75_P2_E1_HD-14_2.wiff.dia.extracted.txt',\n",
      " '20210702_Kuebler_76_P2_D3_CV-48_2.wiff.dia.extracted.txt',\n",
      " '20210702_Kuebler_33_P1_C1_Plasma-11_1.wiff.dia.extracted.txt',\n",
      " '20210702_Kuebler_68_P1_E12_CV-49_2.wiff.dia.extracted.txt',\n",
      " '20210702_Kuebler_94_P2_H2_CV-35_2.wiff.dia.extracted.txt',\n",
      " '20210702_Kuebler_NA_P2_E10_Blank_9.wiff.dia.extracted.txt',\n",
      " '20210702_Kuebler_40_P1_H6_CV-35_1.wiff.dia.extracted.txt',\n",
      " '20210702_Kuebler_45_P1_F4_HD-10_1.wiff.dia.extracted.txt',\n",
      " '20210702_Kuebler_5_P1_D4_HD-8_1.wiff.dia.extracted.txt',\n",
      " '20210702_Kuebler_47_P1_F7_CV-33_1.wiff.dia.extracted.txt',\n",
      " '20210702_Kuebler_110_P2_B1_PlasmaPooled_7.wiff.dia.extracted.txt',\n",
      " '20210702_Kuebler_7_P1_B6_HD-9_1.wiff.dia.extracted.txt',\n",
      " '20210702_Kuebler_93_P2_H4_HD-6_2.wiff.dia.extracted.txt',\n",
      " '20210702_Kuebler_8_P1_F2_CV-25_1.wiff.dia.extracted.txt',\n",
      " '20210702_Kuebler_95_P1_H12_CV-56_2.wiff.dia.extracted.txt',\n",
      " '20210702_Kuebler_43_P1_B7_CV-38_1.wiff.dia.extracted.txt',\n",
      " '20210702_Kuebler_NA_P2_E10_Blank_8.wiff.dia.extracted.txt',\n",
      " '20210702_Kuebler_105_P1_B11_HD-12_2.wiff.dia.extracted.txt',\n",
      " '20210702_Kuebler_143_P2_F7_CV-66_3.wiff.dia.extracted.txt',\n",
      " '20210702_Kuebler_16_P1_H3_CV-16_1.wiff.dia.extracted.txt',\n",
      " '20210702_Kuebler_149_P2_H8_CV-56_3.wiff.dia.extracted.txt',\n",
      " '20210702_Kuebler_81_P2_F1_CV-23_2.wiff.dia.extracted.txt',\n",
      " '20210702_Kuebler_114_P2_E12_CV-32_3.wiff.dia.extracted.txt',\n",
      " '20210702_Kuebler_103_P2_C4_HD-15_2.wiff.dia.extracted.txt',\n",
      " '20210702_Kuebler_89_P1_F11_CV-66_2.wiff.dia.extracted.txt',\n",
      " '20210702_Kuebler_62_P1_F10_CV-25_2.wiff.dia.extracted.txt',\n",
      " '20210702_Kuebler_NA_P2_E10_Blank_1.wiff.dia.extracted.txt',\n",
      " '20210702_Kuebler_25_P1_G7_CV-64_1.wiff.dia.extracted.txt',\n",
      " '20210702_Kuebler_22_P1_D7_CV-48_1.wiff.dia.extracted.txt',\n",
      " '20210702_Kuebler_72_P1_C12_CV-63_2.wiff.dia.extracted.txt',\n",
      " '20210702_Kuebler_117_P2_H9_CV-37_3.wiff.dia.extracted.txt',\n",
      " '20210702_Kuebler_97_P2_B3_CV-38_2.wiff.dia.extracted.txt',\n",
      " '20210702_Kuebler_142_P2_C7_CV-9_3.wiff.dia.extracted.txt',\n",
      " '20210702_Kuebler_64_P2_E2_CV-50_2.wiff.dia.extracted.txt',\n",
      " '20210702_Kuebler_20_P2_B1_PlasmaPooled_2.wiff.dia.extracted.txt',\n",
      " '20210702_Kuebler_108_P2_A4_HD-7_2.wiff.dia.extracted.txt',\n",
      " '20210702_Kuebler_57_P1_G9_HD-1B_2.wiff.dia.extracted.txt',\n",
      " '20210702_Kuebler_59_P1_D12_HD-8_2.wiff.dia.extracted.txt',\n",
      " '20210702_Kuebler_9_P1_H5_CV-37_1.wiff.dia.extracted.txt',\n",
      " '20210702_Kuebler_42_P1_B2_CV-65_1.wiff.dia.extracted.txt',\n",
      " '20210702_Kuebler_141_P2_C5_Plasma-11_3.wiff.dia.extracted.txt',\n",
      " '20210702_Kuebler_6_P1_E8_CV-32_1.wiff.dia.extracted.txt',\n",
      " '20210702_Kuebler_71_P2_F4_Plasma-09_2.wiff.dia.extracted.txt',\n",
      " '20210702_Kuebler_39_P1_H8_HD-6_1.wiff.dia.extracted.txt',\n",
      " '20210702_Kuebler_30_P1_B4_CV-8_1.wiff.dia.extracted.txt',\n",
      " '20210702_Kuebler_121_P2_B12_CV-75_3.wiff.dia.extracted.txt',\n",
      " '20210702_Kuebler_17_P1_F8_Plasma-09_1.wiff.dia.extracted.txt',\n",
      " '20210702_Kuebler_139_P2_G10_Plasma-02_3.wiff.dia.extracted.txt',\n",
      " '20210702_Kuebler_41_P1_H4_CV-56_1.wiff.dia.extracted.txt',\n",
      " '20210702_Kuebler_56_P2_B1_PlasmaPooled_4.wiff.dia.extracted.txt',\n",
      " '20210702_Kuebler_90_P1_H9_HD-3C_2.wiff.dia.extracted.txt',\n",
      " '20210702_Kuebler_154_P2_D6_CV-60_3.wiff.dia.extracted.txt',\n",
      " '20210702_Kuebler_70_P1_H11_CV-16_2.wiff.dia.extracted.txt',\n",
      " '20210702_Kuebler_159_P2_B7_HD-12_3.wiff.dia.extracted.txt',\n",
      " '20210702_Kuebler_144_P2_H5_HD-3C_3.wiff.dia.extracted.txt',\n",
      " '20210702_Kuebler_36_P1_H1_HD-3C_1.wiff.dia.extracted.txt',\n",
      " '20210702_Kuebler_32_P1_C2_CV-61_1.wiff.dia.extracted.txt',\n",
      " '20210702_Kuebler_27_P1_F5_CV-23_1.wiff.dia.extracted.txt',\n",
      " '20210702_Kuebler_61_P2_B2_HD-9_2.wiff.dia.extracted.txt',\n",
      " '20210702_Kuebler_92_P2_B1_PlasmaPooled_6.wiff.dia.extracted.txt',\n",
      " '20210702_Kuebler_100_P1_D10_CV-60_2.wiff.dia.extracted.txt',\n",
      " '20210702_Kuebler_11_P1_D8_HD-4B_1.wiff.dia.extracted.txt',\n",
      " '20210702_Kuebler_74_P2_B1_PlasmaPooled_5.wiff.dia.extracted.txt',\n",
      " '20210702_Kuebler_147_P2_H12_HD-6_3.wiff.dia.extracted.txt',\n",
      " '20210702_Kuebler_87_P1_C9_Plasma-11_2.wiff.dia.extracted.txt',\n",
      " '20210702_Kuebler_155_P2_F11_CV-33_3.wiff.dia.extracted.txt',\n",
      " '20210702_Kuebler_135_P2_F9_CV-23_3.wiff.dia.extracted.txt',\n",
      " '20210702_Kuebler_99_P1_F12_HD-10_2.wiff.dia.extracted.txt',\n",
      " '20210702_Kuebler_NA_P2_E10_Blank_2.wiff.dia.extracted.txt',\n",
      " '20210702_Kuebler_156_P2_G6_HD-13_3.wiff.dia.extracted.txt']\n"
     ]
    }
   ],
   "source": [
    "spectra = glycoproteomics.io.read_spectra_directory(spectra_directory)\n",
    "pprint(list(spectra.keys()))"
   ]
  },
  {
   "cell_type": "markdown",
   "metadata": {},
   "source": [
    "Bin the spectra to make them easier to work with and merge"
   ]
  },
  {
   "cell_type": "code",
   "execution_count": null,
   "metadata": {},
   "outputs": [],
   "source": [
    "binned_spectra = {\n",
    "    name: glycoproteomics.spectrum.bin(\n",
    "        spectrum,\n",
    "        rt_x_bin_size,\n",
    "        mz_y_bin_size,\n",
    "        np.mean)\n",
    "    for name, spectrum in spectra.items()\n",
    "}\n",
    "\n",
    "del(spectra)"
   ]
  },
  {
   "cell_type": "markdown",
   "metadata": {},
   "source": [
    "Filter by retention time"
   ]
  },
  {
   "cell_type": "code",
   "execution_count": null,
   "metadata": {},
   "outputs": [],
   "source": [
    "binned_filtered_spectra = {}\n",
    "for name, spectrum in binned_spectra.items():\n",
    "    binned_filtered_spectra[name] = glycoproteomics.spectrum.filter_rt(spectrum, min_rt, max_rt)\n",
    "\n",
    "del(binned_spectra)"
   ]
  },
  {
   "cell_type": "markdown",
   "metadata": {},
   "source": [
    "Set reference spectrum for RT alignment\n"
   ]
  },
  {
   "cell_type": "code",
   "execution_count": null,
   "metadata": {},
   "outputs": [],
   "source": [
    "#choose middle pooled QC\n",
    "ref_name = \"20210702_Kuebler_74_P2_B1_PlasmaPooled_5.wiff.dia.extracted.txt\"\n",
    "\n",
    "print(ref_name)"
   ]
  },
  {
   "cell_type": "markdown",
   "metadata": {},
   "source": [
    "Merge the spectra and plot the resulting merged spectrum."
   ]
  },
  {
   "cell_type": "code",
   "execution_count": null,
   "metadata": {},
   "outputs": [],
   "source": [
    "merged_spectrum = glycoproteomics.spectrum.combine(binned_filtered_spectra, np.sum)\n",
    "\n",
    "ions = glycoproteomics.spectrum.list_ions(merged_spectrum)\n",
    "\n",
    "print(ions)\n",
    "\n",
    "merged_ion_matrix, x_label, y_label = glycoproteomics.spectrum.to_matrix(merged_spectrum, ions)\n",
    "glycoproteomics.plotting.plot_ion_matrix(\n",
    "    merged_ion_matrix,\n",
    "    x_label,\n",
    "    y_label,\n",
    "    \"Merged - All ions\",\n",
    "    figure_size,\n",
    "    dpi\n",
    ")\n",
    "plt.show()"
   ]
  },
  {
   "cell_type": "markdown",
   "metadata": {},
   "source": [
    "The individual spectra show that there is RT drifting at larger RT values. This can be corrected by using dynamic time warping (DTW). The implementation here can result in column duplication, which isn't great for integration, so should be used carefully. I recommend aligning the spectra prior to merging, to allow clean peaks to be called. Then use the DTW RT mappings to move the peaks for each peak prior to integration.\n",
    "\n",
    "Peaks have to be aligned to a reference, which here is chosen to be the first sample."
   ]
  },
  {
   "cell_type": "code",
   "execution_count": null,
   "metadata": {},
   "outputs": [],
   "source": [
    "binned_aligned_filtered_sample_spectra = {}\n",
    "rt_alignment_mappings = {}\n",
    "for name, spectra in binned_filtered_spectra.items():\n",
    "    aligned_spectra, rt_alignment = glycoproteomics.spectrum.align_rt(\n",
    "        spectra,\n",
    "        binned_filtered_spectra[ref_name], \n",
    "        1,\n",
    "        normalise_before_alignment ### Set in the script parameters cell at top\n",
    "    )\n",
    "    binned_aligned_filtered_sample_spectra[name] = aligned_spectra\n",
    "    rt_alignment_mappings[name] = rt_alignment\n",
    "\n",
    "merged_spectrum = glycoproteomics.spectrum.combine(\n",
    "    binned_aligned_filtered_sample_spectra,\n",
    "    np.sum\n",
    ")\n",
    "merged_ion_matrix, x_label, y_label = glycoproteomics.spectrum.to_matrix(\n",
    "    merged_spectrum,\n",
    "    ions\n",
    ")\n",
    "glycoproteomics.plotting.plot_ion_matrix(\n",
    "    merged_ion_matrix,\n",
    "    x_label,\n",
    "    y_label,\n",
    "    \"Aligned - Merged - \" + \" \".join(ions),\n",
    "    figure_size,\n",
    "    dpi\n",
    ")\n",
    "plt.show()\n"
   ]
  },
  {
   "cell_type": "markdown",
   "metadata": {},
   "source": [
    "Calling the top N peaks from the merged (aligned/filtered) spectrum."
   ]
  },
  {
   "cell_type": "code",
   "execution_count": null,
   "metadata": {},
   "outputs": [],
   "source": [
    "peaks = glycoproteomics.peaks.find(\n",
    "    merged_ion_matrix,\n",
    "    x_label,\n",
    "    y_label,\n",
    "    top_N_peaks,\n",
    "    x_radius_exclude, ### set in parameters cell\n",
    "    y_radius_exclude ### set in parameters cell\n",
    ")\n",
    "\n",
    "glycoproteomics.plotting.plot_ion_matrix_with_peaks(\n",
    "    merged_ion_matrix,\n",
    "    x_label,\n",
    "    y_label,\n",
    "    peaks,\n",
    "    x_radius,\n",
    "    y_radius,\n",
    "    \"Aligned Merged - Top {} peaks\".format(top_N_peaks),\n",
    "    figure_size,\n",
    "    dpi\n",
    ")\n",
    "plt.show()"
   ]
  },
  {
   "cell_type": "markdown",
   "metadata": {},
   "source": [
    "For each individual spectrum, shift the peak positions (using the RT alignments) and sum all bins within each peak ellipse to generate a value for each peak."
   ]
  },
  {
   "cell_type": "code",
   "execution_count": null,
   "metadata": {},
   "outputs": [],
   "source": [
    "aligned_peak_value_dict = {}\n",
    "for name, spectrum in binned_filtered_spectra.items():\n",
    "    moved_peaks = glycoproteomics.peaks.rt_move(peaks, rt_alignment_mappings[name])\n",
    "    peak_indicies = None\n",
    "\n",
    "    for ion in ions:\n",
    "        ion_matrix, x_label, y_label = glycoproteomics.spectrum.to_matrix(spectrum, [ion])\n",
    "        if peak_indicies is None:\n",
    "            # The for the first ion, calculate the peak indicies to be used\n",
    "            peak_indicies = glycoproteomics.peaks.convert_peaks_to_indicies(\n",
    "                x_label,\n",
    "                y_label,\n",
    "                moved_peaks,\n",
    "                x_radius,\n",
    "                y_radius,\n",
    "            )\n",
    "\n",
    "        # Plot the individual spectrum with the merged peaks\n",
    "        #glycoproteomics.plotting.plot_ion_matrix_with_peaks(\n",
    "        #    ion_matrix,\n",
    "        #    x_label,\n",
    "        #    y_label,\n",
    "        #    moved_peaks,\n",
    "        #    x_radius,\n",
    "        #    y_radius,\n",
    "        #    \"{} - Ion = {} - Top {} merged peaks\".format(name, ion, top_N_peaks),\n",
    "        #    figure_size,\n",
    "        #    dpi\n",
    "        #)\n",
    "        #plt.show()\n",
    "        \n",
    "        # Determine the sum of values within the peak ellipse for each peak\n",
    "        peak_values = glycoproteomics.peaks.integrate(\n",
    "            ion_matrix, peak_indicies, np.sum\n",
    "        )\n",
    "        aligned_peak_value_dict.setdefault(ion, {})[name] = peak_values\n",
    "        # Print the top 5 peaks\n",
    "        print(peak_values[:5])\n",
    "        \n",
    "        ### add some sort of status bar to the print function (n features / m samples * x ions)"
   ]
  },
  {
   "cell_type": "markdown",
   "metadata": {},
   "source": [
    "Save output to .tsv"
   ]
  },
  {
   "cell_type": "code",
   "execution_count": null,
   "metadata": {},
   "outputs": [],
   "source": [
    "with open(filename, \"w\") as out_f:\n",
    "    out_f.write(\"\\t\".join(\n",
    "        [\n",
    "            \"spectrum_name\",\n",
    "            \"ion\",\n",
    "            \"peak_num\",\n",
    "            \"merged_rt\",\n",
    "            \"merged_mz\",\n",
    "            \"merged_height\",\n",
    "            \"persistence\",\n",
    "            \"aligned_rt\",\n",
    "            \"aligned_mz\",\n",
    "            \"value\"\n",
    "        ]) + \"\\n\"\n",
    "    )\n",
    "    for ion, spectra_dict in aligned_peak_value_dict.items():\n",
    "            print('-- {}'.format(ion))\n",
    "            for name, peak_values in spectra_dict.items():\n",
    "                print('---- {}'.format(name))\n",
    "                moved_peaks = glycoproteomics.peaks.rt_move(peaks, rt_alignment_mappings[name])\n",
    "                for peak_idx in range(len(peak_values)):\n",
    "                    out_f.write(\"\\t\".join(\n",
    "                        [\n",
    "                            name,\n",
    "                            str(ion),\n",
    "                            str(peak_idx + 1),\n",
    "                            str(peaks[peak_idx][0][0]),\n",
    "                            str(peaks[peak_idx][0][1]),\n",
    "                            str(peaks[peak_idx][1]),\n",
    "                            str(peaks[peak_idx][2]),\n",
    "                            str(moved_peaks[peak_idx][0][0]),\n",
    "                            str(moved_peaks[peak_idx][0][1]),\n",
    "                            str(aligned_peak_value_dict[ion][name][peak_idx])\n",
    "                        ]) + \"\\n\"\n",
    "                    )"
   ]
  },
  {
   "cell_type": "markdown",
   "metadata": {},
   "source": [
    "### Enjoy!"
   ]
  }
 ],
 "metadata": {
  "interpreter": {
   "hash": "e4a82ea3661bc7c787de9eb5cdbe9eed459e34cb438e1577af780c222a33bc4f"
  },
  "kernelspec": {
   "display_name": "Python 3",
   "language": "python",
   "name": "python3"
  },
  "language_info": {
   "codemirror_mode": {
    "name": "ipython",
    "version": 3
   },
   "file_extension": ".py",
   "mimetype": "text/x-python",
   "name": "python",
   "nbconvert_exporter": "python",
   "pygments_lexer": "ipython3",
   "version": "3.7.4"
  }
 },
 "nbformat": 4,
 "nbformat_minor": 2
}
