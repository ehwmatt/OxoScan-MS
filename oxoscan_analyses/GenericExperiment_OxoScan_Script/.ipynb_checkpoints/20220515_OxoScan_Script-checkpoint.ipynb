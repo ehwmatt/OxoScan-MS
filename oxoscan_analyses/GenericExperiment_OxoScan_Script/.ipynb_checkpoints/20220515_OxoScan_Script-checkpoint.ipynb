{
 "cells": [
  {
   "cell_type": "markdown",
   "metadata": {},
   "source": [
    "# General OxoScan-MS Analysis"
   ]
  },
  {
   "cell_type": "code",
   "execution_count": 2,
   "metadata": {},
   "outputs": [
    {
     "ename": "ModuleNotFoundError",
     "evalue": "No module named 'glycoproteomics'",
     "output_type": "error",
     "traceback": [
      "\u001b[0;31m---------------------------------------------------------------------------\u001b[0m",
      "\u001b[0;31mModuleNotFoundError\u001b[0m                       Traceback (most recent call last)",
      "\u001b[0;32m<ipython-input-2-c15d70ecd23d>\u001b[0m in \u001b[0;36m<module>\u001b[0;34m\u001b[0m\n\u001b[1;32m      1\u001b[0m \u001b[0;32mimport\u001b[0m \u001b[0mos\u001b[0m\u001b[0;34m\u001b[0m\u001b[0;34m\u001b[0m\u001b[0m\n\u001b[0;32m----> 2\u001b[0;31m \u001b[0;32mimport\u001b[0m \u001b[0mglycoproteomics\u001b[0m\u001b[0;34m\u001b[0m\u001b[0;34m\u001b[0m\u001b[0m\n\u001b[0m\u001b[1;32m      3\u001b[0m \u001b[0;32mimport\u001b[0m \u001b[0mnumpy\u001b[0m \u001b[0;32mas\u001b[0m \u001b[0mnp\u001b[0m\u001b[0;34m\u001b[0m\u001b[0;34m\u001b[0m\u001b[0m\n\u001b[1;32m      4\u001b[0m \u001b[0;32mimport\u001b[0m \u001b[0mmatplotlib\u001b[0m\u001b[0;34m.\u001b[0m\u001b[0mpyplot\u001b[0m \u001b[0;32mas\u001b[0m \u001b[0mplt\u001b[0m\u001b[0;34m\u001b[0m\u001b[0;34m\u001b[0m\u001b[0m\n\u001b[1;32m      5\u001b[0m \u001b[0mget_ipython\u001b[0m\u001b[0;34m(\u001b[0m\u001b[0;34m)\u001b[0m\u001b[0;34m.\u001b[0m\u001b[0mrun_line_magic\u001b[0m\u001b[0;34m(\u001b[0m\u001b[0;34m'matplotlib'\u001b[0m\u001b[0;34m,\u001b[0m \u001b[0;34m'inline'\u001b[0m\u001b[0;34m)\u001b[0m\u001b[0;34m\u001b[0m\u001b[0;34m\u001b[0m\u001b[0m\n",
      "\u001b[0;31mModuleNotFoundError\u001b[0m: No module named 'glycoproteomics'"
     ]
    }
   ],
   "source": [
    "import os\n",
    "import glycoproteomics\n",
    "import numpy as np\n",
    "import matplotlib.pyplot as plt\n",
    "%matplotlib inline\n",
    "#import matplotlib_inline\n",
    "from pprint import pprint\n",
    "#matplotlib_inline.backend_inline.set_matplotlib_formats(\"png\")\n",
    "figure_size = (8, 4)\n",
    "dpi = 100\n",
    "\n"
   ]
  },
  {
   "cell_type": "markdown",
   "metadata": {},
   "source": [
    "Set/toggle parameters for analysis"
   ]
  },
  {
   "cell_type": "code",
   "execution_count": 1,
   "metadata": {},
   "outputs": [],
   "source": [
    "spectra_directory = \"/Volumes/lab-ralserm/working/Matt/Glyco/Paper/Revisions/PlasmaPooled_1_OxoniumIons+407.txt\" ### insert file directory to read from\n",
    "\n",
    "### Pre-alignment normalisation\n",
    "normalise_before_alignment = True ### should each sample be normalised before RT alignment (does not affect quantification)\n",
    "\n",
    "### RT filtering \n",
    "filter_rt = True\n",
    "\n",
    "max_rt = 23.5 \n",
    "min_rt = 5\n",
    "\n",
    "### Binning \n",
    "rt_x_bin_size = 0.025 ## For 19-minute chromatographic gradient (1.5s cycle time)\n",
    "mz_y_bin_size = 2.0 ##. For 10 Da (19-minute) OxoScan method \n",
    "\n",
    "### Peak calling \n",
    "top_N_peaks = 2500\n",
    "\n",
    "### Peak quantification ellipse\n",
    "x_radius = rt_x_bin_size * 3.0 ## Recommended parameters for quant\n",
    "y_radius = mz_y_bin_size * 5.0\n",
    "\n",
    "\n",
    "### Peak exclusion ellipse (within which the centre of another peak will not be called)\n",
    "x_radius_exclude = x_radius * 3.0  ## Recommended to conservatively exclude nearby peaks\n",
    "y_radius_exclude = y_radius * 2.0\n",
    "\n",
    "### Output filename\n",
    "filename = \"20221026_407-check.tsv\" ## Set customi\n",
    "\n"
   ]
  },
  {
   "cell_type": "markdown",
   "metadata": {},
   "source": [
    "Read in all spectra from folder:"
   ]
  },
  {
   "cell_type": "code",
   "execution_count": null,
   "metadata": {
    "tags": []
   },
   "outputs": [],
   "source": [
    "spectra = glycoproteomics.io.read_spectra_directory(spectra_directory)\n",
    "pprint(list(spectra.keys()))"
   ]
  },
  {
   "cell_type": "markdown",
   "metadata": {},
   "source": [
    "Bin the spectra to make them easier to work with and merge"
   ]
  },
  {
   "cell_type": "code",
   "execution_count": null,
   "metadata": {},
   "outputs": [],
   "source": [
    "binned_spectra = {\n",
    "    name: glycoproteomics.spectrum.bin(\n",
    "        spectrum,\n",
    "        rt_x_bin_size,\n",
    "        mz_y_bin_size,\n",
    "        np.mean)\n",
    "    for name, spectrum in spectra.items()\n",
    "}\n",
    "\n",
    "del(spectra)"
   ]
  },
  {
   "cell_type": "markdown",
   "metadata": {},
   "source": [
    "Filter by retention time"
   ]
  },
  {
   "cell_type": "code",
   "execution_count": null,
   "metadata": {},
   "outputs": [],
   "source": [
    "binned_filtered_spectra = {}\n",
    "for name, spectrum in binned_spectra.items():\n",
    "    binned_filtered_spectra[name] = glycoproteomics.spectrum.filter_rt(spectrum, min_rt, max_rt)\n",
    "\n",
    "del(binned_spectra)"
   ]
  },
  {
   "cell_type": "markdown",
   "metadata": {},
   "source": [
    "Set reference spectrum for RT alignment\n"
   ]
  },
  {
   "cell_type": "code",
   "execution_count": null,
   "metadata": {},
   "outputs": [],
   "source": [
    "#choose middle pooled QC\n",
    "ref_name = \"20210702_Kuebler_74_P2_B1_PlasmaPooled_5.wiff.dia.extracted.txt\"\n",
    "\n",
    "print(ref_name)"
   ]
  },
  {
   "cell_type": "markdown",
   "metadata": {},
   "source": [
    "Merge the spectra and plot the resulting merged spectrum."
   ]
  },
  {
   "cell_type": "code",
   "execution_count": null,
   "metadata": {},
   "outputs": [],
   "source": [
    "merged_spectrum = glycoproteomics.spectrum.combine(binned_filtered_spectra, np.sum)\n",
    "\n",
    "ions = glycoproteomics.spectrum.list_ions(merged_spectrum)\n",
    "\n",
    "print(ions)\n",
    "\n",
    "merged_ion_matrix, x_label, y_label = glycoproteomics.spectrum.to_matrix(merged_spectrum, ions)\n",
    "glycoproteomics.plotting.plot_ion_matrix(\n",
    "    merged_ion_matrix,\n",
    "    x_label,\n",
    "    y_label,\n",
    "    \"Merged - All ions\",\n",
    "    figure_size,\n",
    "    dpi\n",
    ")\n",
    "plt.show()"
   ]
  },
  {
   "cell_type": "markdown",
   "metadata": {},
   "source": [
    "The individual spectra show that there is RT drifting at larger RT values. This can be corrected by using dynamic time warping (DTW). The implementation here can result in column duplication, which isn't great for integration, so should be used carefully. I recommend aligning the spectra prior to merging, to allow clean peaks to be called. Then use the DTW RT mappings to move the peaks for each peak prior to integration.\n",
    "\n",
    "Peaks have to be aligned to a reference, which here is chosen to be the first sample."
   ]
  },
  {
   "cell_type": "code",
   "execution_count": null,
   "metadata": {},
   "outputs": [],
   "source": [
    "binned_aligned_filtered_sample_spectra = {}\n",
    "rt_alignment_mappings = {}\n",
    "for name, spectra in binned_filtered_spectra.items():\n",
    "    aligned_spectra, rt_alignment = glycoproteomics.spectrum.align_rt(\n",
    "        spectra,\n",
    "        binned_filtered_spectra[ref_name], \n",
    "        1,\n",
    "        normalise_before_alignment ### Set in the script parameters cell at top\n",
    "    )\n",
    "    binned_aligned_filtered_sample_spectra[name] = aligned_spectra\n",
    "    rt_alignment_mappings[name] = rt_alignment\n",
    "\n",
    "merged_spectrum = glycoproteomics.spectrum.combine(\n",
    "    binned_aligned_filtered_sample_spectra,\n",
    "    np.sum\n",
    ")\n",
    "merged_ion_matrix, x_label, y_label = glycoproteomics.spectrum.to_matrix(\n",
    "    merged_spectrum,\n",
    "    ions\n",
    ")\n",
    "glycoproteomics.plotting.plot_ion_matrix(\n",
    "    merged_ion_matrix,\n",
    "    x_label,\n",
    "    y_label,\n",
    "    \"Aligned - Merged - \" + \" \".join(ions),\n",
    "    figure_size,\n",
    "    dpi\n",
    ")\n",
    "plt.show()\n"
   ]
  },
  {
   "cell_type": "markdown",
   "metadata": {},
   "source": [
    "Calling the top N peaks from the merged (aligned/filtered) spectrum."
   ]
  },
  {
   "cell_type": "code",
   "execution_count": null,
   "metadata": {},
   "outputs": [],
   "source": [
    "peaks = glycoproteomics.peaks.find(\n",
    "    merged_ion_matrix,\n",
    "    x_label,\n",
    "    y_label,\n",
    "    top_N_peaks,\n",
    "    x_radius_exclude, ### set in parameters cell\n",
    "    y_radius_exclude ### set in parameters cell\n",
    ")\n",
    "\n",
    "glycoproteomics.plotting.plot_ion_matrix_with_peaks(\n",
    "    merged_ion_matrix,\n",
    "    x_label,\n",
    "    y_label,\n",
    "    peaks,\n",
    "    x_radius,\n",
    "    y_radius,\n",
    "    \"Aligned Merged - Top {} peaks\".format(top_N_peaks),\n",
    "    figure_size,\n",
    "    dpi\n",
    ")\n",
    "plt.show()"
   ]
  },
  {
   "cell_type": "markdown",
   "metadata": {},
   "source": [
    "For each individual spectrum, shift the peak positions (using the RT alignments) and sum all bins within each peak ellipse to generate a value for each peak."
   ]
  },
  {
   "cell_type": "code",
   "execution_count": null,
   "metadata": {},
   "outputs": [],
   "source": [
    "aligned_peak_value_dict = {}\n",
    "for name, spectrum in binned_filtered_spectra.items():\n",
    "    moved_peaks = glycoproteomics.peaks.rt_move(peaks, rt_alignment_mappings[name])\n",
    "    peak_indicies = None\n",
    "\n",
    "    for ion in ions:\n",
    "        ion_matrix, x_label, y_label = glycoproteomics.spectrum.to_matrix(spectrum, [ion])\n",
    "        if peak_indicies is None:\n",
    "            # The for the first ion, calculate the peak indicies to be used\n",
    "            peak_indicies = glycoproteomics.peaks.convert_peaks_to_indicies(\n",
    "                x_label,\n",
    "                y_label,\n",
    "                moved_peaks,\n",
    "                x_radius,\n",
    "                y_radius,\n",
    "            )\n",
    "\n",
    "        # Plot the individual spectrum with the merged peaks\n",
    "        #glycoproteomics.plotting.plot_ion_matrix_with_peaks(\n",
    "        #    ion_matrix,\n",
    "        #    x_label,\n",
    "        #    y_label,\n",
    "        #    moved_peaks,\n",
    "        #    x_radius,\n",
    "        #    y_radius,\n",
    "        #    \"{} - Ion = {} - Top {} merged peaks\".format(name, ion, top_N_peaks),\n",
    "        #    figure_size,\n",
    "        #    dpi\n",
    "        #)\n",
    "        #plt.show()\n",
    "        \n",
    "        # Determine the sum of values within the peak ellipse for each peak\n",
    "        peak_values = glycoproteomics.peaks.integrate(\n",
    "            ion_matrix, peak_indicies, np.sum\n",
    "        )\n",
    "        aligned_peak_value_dict.setdefault(ion, {})[name] = peak_values\n",
    "        # Print the top 5 peaks\n",
    "        print(peak_values[:5])\n",
    "        \n",
    "        ### add some sort of status bar to the print function (n features / m samples * x ions)"
   ]
  },
  {
   "cell_type": "markdown",
   "metadata": {},
   "source": [
    "Save output to .tsv"
   ]
  },
  {
   "cell_type": "code",
   "execution_count": null,
   "metadata": {},
   "outputs": [],
   "source": [
    "with open(filename, \"w\") as out_f:\n",
    "    out_f.write(\"\\t\".join(\n",
    "        [\n",
    "            \"spectrum_name\",\n",
    "            \"ion\",\n",
    "            \"peak_num\",\n",
    "            \"merged_rt\",\n",
    "            \"merged_mz\",\n",
    "            \"merged_height\",\n",
    "            \"persistence\",\n",
    "            \"aligned_rt\",\n",
    "            \"aligned_mz\",\n",
    "            \"value\"\n",
    "        ]) + \"\\n\"\n",
    "    )\n",
    "    for ion, spectra_dict in aligned_peak_value_dict.items():\n",
    "            print('-- {}'.format(ion))\n",
    "            for name, peak_values in spectra_dict.items():\n",
    "                print('---- {}'.format(name))\n",
    "                moved_peaks = glycoproteomics.peaks.rt_move(peaks, rt_alignment_mappings[name])\n",
    "                for peak_idx in range(len(peak_values)):\n",
    "                    out_f.write(\"\\t\".join(\n",
    "                        [\n",
    "                            name,\n",
    "                            str(ion),\n",
    "                            str(peak_idx + 1),\n",
    "                            str(peaks[peak_idx][0][0]),\n",
    "                            str(peaks[peak_idx][0][1]),\n",
    "                            str(peaks[peak_idx][1]),\n",
    "                            str(peaks[peak_idx][2]),\n",
    "                            str(moved_peaks[peak_idx][0][0]),\n",
    "                            str(moved_peaks[peak_idx][0][1]),\n",
    "                            str(aligned_peak_value_dict[ion][name][peak_idx])\n",
    "                        ]) + \"\\n\"\n",
    "                    )"
   ]
  },
  {
   "cell_type": "markdown",
   "metadata": {},
   "source": [
    "### Enjoy!"
   ]
  }
 ],
 "metadata": {
  "interpreter": {
   "hash": "e4a82ea3661bc7c787de9eb5cdbe9eed459e34cb438e1577af780c222a33bc4f"
  },
  "kernelspec": {
   "display_name": "Python 3",
   "language": "python",
   "name": "python3"
  },
  "language_info": {
   "codemirror_mode": {
    "name": "ipython",
    "version": 3
   },
   "file_extension": ".py",
   "mimetype": "text/x-python",
   "name": "python",
   "nbconvert_exporter": "python",
   "pygments_lexer": "ipython3",
   "version": "3.8.8"
  }
 },
 "nbformat": 4,
 "nbformat_minor": 2
}
