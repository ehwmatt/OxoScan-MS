{
 "cells": [
  {
   "cell_type": "markdown",
   "metadata": {},
   "source": [
    "# Analysis of Plasma/E.coli Spike-in Experiment"
   ]
  },
  {
   "cell_type": "code",
   "execution_count": 1,
   "metadata": {},
   "outputs": [],
   "source": [
    "import os\n",
    "import glycoproteomics\n",
    "import numpy as np\n",
    "import matplotlib.pyplot as plt\n",
    "#%matplotlib inline\n",
    "#import matplotlib_inline\n",
    "from pprint import pprint\n",
    "#matplotlib_inline.backend_inline.set_matplotlib_formats(\"png\")\n",
    "figure_size = (8, 4)\n",
    "dpi = 100\n",
    "\n"
   ]
  },
  {
   "cell_type": "markdown",
   "metadata": {},
   "source": [
    "Set/toggle parameters for analysis"
   ]
  },
  {
   "cell_type": "code",
   "execution_count": 2,
   "metadata": {},
   "outputs": [],
   "source": [
    "spectra_directory = \"/camp/lab/ralserm/working/Matt/Glyco/Micro/Kuebler_2/Data/Spike/AllSamples\" ### file directory to read from\n",
    "\n",
    "### Pre-alignment normalisation\n",
    "normalise_before_alignment = True ### should each sample be normalised before RT alignment (does not affect quantification)\n",
    "\n",
    "### RT filtering \n",
    "filter_rt = True\n",
    "\n",
    "max_rt = 23.5 \n",
    "min_rt = 5.5\n",
    "\n",
    "### Binning \n",
    "rt_x_bin_size = 0.025\n",
    "mz_y_bin_size = 2.0\n",
    "\n",
    "### Peak calling \n",
    "top_N_peaks = 5000\n",
    "\n",
    "### Peak quantification ellipse\n",
    "x_radius = rt_x_bin_size * 3.0\n",
    "y_radius = mz_y_bin_size * 5.0\n",
    "\n",
    "\n",
    "### Peak exclusion ellipse (within which the centre of another peak will not be called)\n",
    "x_radius_exclude = x_radius * 3.0\n",
    "y_radius_exclude = y_radius * 2.0\n",
    "\n",
    "### Output filename\n",
    "filename = \"20220221_Spike_AllIons_PlasmaAligned_ExcludeRT3mz2.tsv\"\n",
    "\n"
   ]
  },
  {
   "cell_type": "markdown",
   "metadata": {},
   "source": [
    "Read in all spectra from folder:"
   ]
  },
  {
   "cell_type": "code",
   "execution_count": 3,
   "metadata": {
    "tags": []
   },
   "outputs": [
    {
     "name": "stdout",
     "output_type": "stream",
     "text": [
      "['20210723_glyco_plasma_ecoli_spike_2ug_3.wiff.dia.extracted.txt',\n",
      " '20210723_glyco_plasma_ecoli_spike_2ug_7.wiff.dia.extracted.txt',\n",
      " '20210723_glyco_plasma_ecoli_spike_2ug_2.wiff.dia.extracted.txt',\n",
      " '20210723_glyco_plasma_ecoli_spike_2ug_4.wiff.dia.extracted.txt',\n",
      " '20210723_glyco_plasma_ecoli_spike_2ug_1.wiff.dia.extracted.txt',\n",
      " '20210723_glyco_plasma_ecoli_spike_2ug_5.wiff.dia.extracted.txt',\n",
      " '20210723_glyco_plasma_ecoli_spike_2ug_6.wiff.dia.extracted.txt']\n"
     ]
    }
   ],
   "source": [
    "spectra = glycoproteomics.io.read_spectra_directory(spectra_directory)\n",
    "pprint(list(spectra.keys()))"
   ]
  },
  {
   "cell_type": "markdown",
   "metadata": {},
   "source": [
    "Bin the spectra to make them easier to work with and merge"
   ]
  },
  {
   "cell_type": "code",
   "execution_count": 4,
   "metadata": {},
   "outputs": [],
   "source": [
    "binned_spectra = {\n",
    "    name: glycoproteomics.spectrum.bin(\n",
    "        spectrum,\n",
    "        rt_x_bin_size,\n",
    "        mz_y_bin_size,\n",
    "        np.mean)\n",
    "    for name, spectrum in spectra.items()\n",
    "}\n",
    "\n",
    "del(spectra)"
   ]
  },
  {
   "cell_type": "markdown",
   "metadata": {},
   "source": [
    "Filter by retention time"
   ]
  },
  {
   "cell_type": "code",
   "execution_count": 5,
   "metadata": {},
   "outputs": [],
   "source": [
    "binned_filtered_spectra = {}\n",
    "for name, spectrum in binned_spectra.items():\n",
    "    binned_filtered_spectra[name] = glycoproteomics.spectrum.filter_rt(spectrum, min_rt, max_rt)\n",
    "\n",
    "del(binned_spectra)"
   ]
  },
  {
   "cell_type": "markdown",
   "metadata": {},
   "source": [
    "Set reference spectrum for RT alignment\n"
   ]
  },
  {
   "cell_type": "code",
   "execution_count": 6,
   "metadata": {},
   "outputs": [
    {
     "name": "stdout",
     "output_type": "stream",
     "text": [
      "20210723_glyco_plasma_ecoli_spike_2ug_7.wiff.dia.extracted.txt\n"
     ]
    }
   ],
   "source": [
    "#choose middle pooled QC\n",
    "ref_name = \"20210723_glyco_plasma_ecoli_spike_2ug_7.wiff.dia.extracted.txt\"\n",
    "\n",
    "print(ref_name)"
   ]
  },
  {
   "cell_type": "markdown",
   "metadata": {},
   "source": [
    "Merge the spectra and plot the resulting merged spectrum."
   ]
  },
  {
   "cell_type": "code",
   "execution_count": 7,
   "metadata": {},
   "outputs": [
    {
     "name": "stdout",
     "output_type": "stream",
     "text": [
      "['138.055', '186.076', '204.087', '274.092', '292.103', '366.14', '657.235']\n"
     ]
    }
   ],
   "source": [
    "merged_spectrum = glycoproteomics.spectrum.combine(binned_filtered_spectra, np.sum)\n",
    "\n",
    "ions = glycoproteomics.spectrum.list_ions(merged_spectrum)\n",
    "\n",
    "print(ions)\n",
    "\n",
    "merged_ion_matrix, x_label, y_label = glycoproteomics.spectrum.to_matrix(merged_spectrum, ions)\n",
    "glycoproteomics.plotting.plot_ion_matrix(\n",
    "    merged_ion_matrix,\n",
    "    x_label,\n",
    "    y_label,\n",
    "    \"Merged - All ions\",\n",
    "    figure_size,\n",
    "    dpi\n",
    ")\n",
    "plt.show()"
   ]
  },
  {
   "cell_type": "markdown",
   "metadata": {},
   "source": [
    "The individual spectra show that there is RT drifting at larger RT values. This can be corrected by using dynamic time warping (DTW). The implementation here can result in column duplication, which isn't great for integration, so should be used carefully. I recommend aligning the spectra prior to merging, to allow clean peaks to be called. Then use the DTW RT mappings to move the peaks for each peak prior to integration.\n",
    "\n",
    "Peaks have to be aligned to a reference, which here is chosen to be the first sample."
   ]
  },
  {
   "cell_type": "code",
   "execution_count": 8,
   "metadata": {},
   "outputs": [],
   "source": [
    "binned_aligned_filtered_sample_spectra = {}\n",
    "rt_alignment_mappings = {}\n",
    "for name, spectra in binned_filtered_spectra.items():\n",
    "    aligned_spectra, rt_alignment = glycoproteomics.spectrum.align_rt(\n",
    "        spectra,\n",
    "        binned_filtered_spectra[ref_name], \n",
    "        1,\n",
    "        normalise_before_alignment ### Set in the script parameters cell at top\n",
    "    )\n",
    "    binned_aligned_filtered_sample_spectra[name] = aligned_spectra\n",
    "    rt_alignment_mappings[name] = rt_alignment\n",
    "\n",
    "merged_spectrum = glycoproteomics.spectrum.combine(\n",
    "    binned_aligned_filtered_sample_spectra,\n",
    "    np.sum\n",
    ")\n",
    "merged_ion_matrix, x_label, y_label = glycoproteomics.spectrum.to_matrix(\n",
    "    merged_spectrum,\n",
    "    ions\n",
    ")\n",
    "glycoproteomics.plotting.plot_ion_matrix(\n",
    "    merged_ion_matrix,\n",
    "    x_label,\n",
    "    y_label,\n",
    "    \"Aligned - Merged - \" + \" \".join(ions),\n",
    "    figure_size,\n",
    "    dpi\n",
    ")\n",
    "plt.show()\n"
   ]
  },
  {
   "cell_type": "markdown",
   "metadata": {},
   "source": [
    "Calling the top N peaks from the merged (aligned/filtered) spectrum."
   ]
  },
  {
   "cell_type": "code",
   "execution_count": 9,
   "metadata": {},
   "outputs": [],
   "source": [
    "peaks = glycoproteomics.peaks.find(\n",
    "    merged_ion_matrix,\n",
    "    x_label,\n",
    "    y_label,\n",
    "    top_N_peaks,\n",
    "    x_radius_exclude, ### set in parameters cell\n",
    "    y_radius_exclude ### set in parameters cell\n",
    ")\n",
    "\n",
    "glycoproteomics.plotting.plot_ion_matrix_with_peaks(\n",
    "    merged_ion_matrix,\n",
    "    x_label,\n",
    "    y_label,\n",
    "    peaks,\n",
    "    x_radius,\n",
    "    y_radius,\n",
    "    \"Aligned Merged - Top {} peaks\".format(top_N_peaks),\n",
    "    figure_size,\n",
    "    dpi\n",
    ")\n",
    "plt.show()"
   ]
  },
  {
   "cell_type": "markdown",
   "metadata": {},
   "source": [
    "For each individual spectrum, shift the peak positions (using the RT alignments) and sum all bins within each peak ellipse to generate a value for each peak."
   ]
  },
  {
   "cell_type": "code",
   "execution_count": null,
   "metadata": {},
   "outputs": [
    {
     "name": "stdout",
     "output_type": "stream",
     "text": [
      "[2335.31265, 1192.3540900000003, 1216.4402299999997, 2195.3716699999995, 1169.47153]\n",
      "[11081.5833, 3477.67325, 9188.0817, 5944.40296, 6011.3827]\n",
      "[459.27823, 232.71812100000002, 67.63877099999999, 375.479651, 298.779494]\n",
      "[4490.1937, 1791.67577, 2918.2908999999995, 3537.92791, 2519.3147200000003]\n",
      "[32.6838358, 2.7174036000000004, 23.792246600000006, 14.00533, 8.7446848]\n",
      "[6636.6278, 2447.0749099999994, 4774.757100000001, 4262.65758, 3530.0487]\n",
      "[9578.643, 3090.7352200000005, 8283.5101, 5529.447690000001, 5324.1826]\n",
      "[977.66812, 586.80169, 480.51969999999994, 995.4048899999999, 507.01466999999997]\n",
      "[5637.813219999999, 1790.9133299999999, 4114.1921, 2560.3555499999998, 2984.8977]\n",
      "[182.87015100000005, 127.386595, 40.334137000000005, 192.53410200000005, 74.54368300000002]\n",
      "[2211.0745400000005, 1015.6513400000001, 1383.3511700000001, 1652.2359700000002, 1125.23709]\n",
      "[19.487434000000004, 3.0657076, 0.5307504000000001, 8.21801, 2.145991]\n",
      "[3342.4868, 1319.0857999999998, 2435.9353, 1917.54835, 1806.8531220000004]\n",
      "[4815.849319999998, 1711.34096, 3768.6558, 2446.23758, 2651.3776000000003]\n",
      "[8506.659020000003, 7350.83, 3836.305500000001, 7937.757699999999, 5292.3024]\n",
      "[44330.42489999999, 20553.3366, 27721.294000000005, 19349.350199999993, 23640.69]\n",
      "[2238.32726, 1757.6309399999998, 430.88729, 1716.87374, 1214.8517000000002]\n",
      "[18665.507800000003, 11615.9239, 8529.1682, 12167.698, 9492.8475]\n",
      "[228.336305, 107.59104200000003, 60.37224, 138.98671999999996, 110.338984]\n",
      "[27711.770999999997, 15362.127400000001, 15224.267100000003, 14217.416840000002, 13975.1638]\n",
      "[37611.979699999996, 18401.749399999997, 25039.344999999998, 17580.7903, 20958.038999999997]\n",
      "[11041.3827, 6129.235100000002, 3121.1643299999996, 12365.0523, 6049.464140000001]\n",
      "[55383.92900000001, 15965.447680000001, 21059.113500000007, 29519.591599999996, 29659.922000000002]\n",
      "[2597.7397, 1356.4713900000002, 319.67906, 2844.4731199999997, 1475.88603]\n",
      "[22837.792, 9061.914600000002, 6943.2721, 19569.242099999996, 11421.7311]\n",
      "[259.82628, 97.71088099999999, 36.392630999999994, 230.79027200000002, 74.68426399999997]\n",
      "[34358.893, 12060.0286, 11906.8244, 22609.01958, 17300.0461]\n",
      "[47518.2487, 14258.481649999998, 19258.418999999998, 27273.4893, 25333.566]\n",
      "[4754.224760000001, 3970.4498999999996, 1215.94281, 4534.702799999999, 2487.4068100000004]\n",
      "[24436.080899999997, 10379.16569, 9314.1828, 11233.65635, 12923.1336]\n",
      "[1068.7862400000001, 870.28248, 93.861682, 1109.810683, 556.7217839999998]\n",
      "[10066.271799999999, 5704.5971, 2957.6178000000004, 7393.3494, 5011.59459]\n",
      "[88.9428784, 60.06127600000001, 14.263556200000002, 51.73081619999999, 32.885601]\n",
      "[14558.248399999999, 7696.612789999999, 5143.6188, 8675.175829, 7581.9746000000005]\n",
      "[21127.654000000002, 9622.94791, 8083.619100000001, 10230.5243, 10871.075600000002]\n",
      "[22719.839500000002, 18931.1493, 12001.600600000002, 16781.529300000002, 12288.3864]\n"
     ]
    }
   ],
   "source": [
    "aligned_peak_value_dict = {}\n",
    "for ion in ions:\n",
    "    aligned_peak_value_dict[ion] = {}\n",
    "    for name, spectrum in binned_filtered_spectra.items():\n",
    "        ion_matrix, x_label, y_label = glycoproteomics.spectrum.to_matrix(spectrum, [ion])\n",
    "        moved_peaks = glycoproteomics.peaks.rt_move(peaks, rt_alignment_mappings[name])\n",
    "\n",
    "       \n",
    "        # Plot the individual spectrum with the merged peaks\n",
    "        #glycoproteomics.plotting.plot_ion_matrix_with_peaks(\n",
    "        #    ion_matrix,\n",
    "        #    x_label,\n",
    "        #    y_label,\n",
    "        #    moved_peaks,\n",
    "        #    x_radius,\n",
    "        #    y_radius,\n",
    "        #    \"{} - Ion = {} - Top {} merged peaks\".format(name, ion, top_N_peaks),\n",
    "        #    figure_size,\n",
    "        #    dpi\n",
    "        #)\n",
    "        #plt.show()\n",
    "        \n",
    "        # Determine the sum of values within the peak ellipse for each peak\n",
    "        peak_values = glycoproteomics.peaks.integrate(\n",
    "            ion_matrix, x_label, y_label, moved_peaks, x_radius, y_radius, np.sum\n",
    "        )\n",
    "        aligned_peak_value_dict[ion][name] = peak_values\n",
    "        # Print the top 5 peaks\n",
    "        print(peak_values[:5])\n",
    "        \n",
    "        ### add some sort of status bar to the print function (n features / m samples * x ions)"
   ]
  },
  {
   "cell_type": "markdown",
   "metadata": {},
   "source": [
    "Save output to .tsv"
   ]
  },
  {
   "cell_type": "code",
   "execution_count": null,
   "metadata": {},
   "outputs": [],
   "source": [
    "with open(filename, \"w\") as out_f:\n",
    "    out_f.write(\"\\t\".join(\n",
    "        [\n",
    "            \"spectrum_name\",\n",
    "            \"ion\",\n",
    "            \"peak_num\",\n",
    "            \"merged_rt\",\n",
    "            \"merged_mz\",\n",
    "            \"merged_height\",\n",
    "            \"persistence\",\n",
    "            \"aligned_rt\",\n",
    "            \"aligned_mz\",\n",
    "            \"value\"\n",
    "        ]) + \"\\n\"\n",
    "    )\n",
    "    for ion, spectra_dict in aligned_peak_value_dict.items():\n",
    "            print('-- {}'.format(ion))\n",
    "            for name, peak_values in spectra_dict.items():\n",
    "                print('---- {}'.format(name))\n",
    "                moved_peaks = glycoproteomics.peaks.rt_move(peaks, rt_alignment_mappings[name])\n",
    "                for peak_idx in range(len(peak_values)):\n",
    "                    out_f.write(\"\\t\".join(\n",
    "                        [\n",
    "                            name,\n",
    "                            str(ion),\n",
    "                            str(peak_idx + 1),\n",
    "                            str(peaks[peak_idx][0][0]),\n",
    "                            str(peaks[peak_idx][0][1]),\n",
    "                            str(peaks[peak_idx][1]),\n",
    "                            str(peaks[peak_idx][2]),\n",
    "                            str(moved_peaks[peak_idx][0][0]),\n",
    "                            str(moved_peaks[peak_idx][0][1]),\n",
    "                            str(aligned_peak_value_dict[ion][name][peak_idx])\n",
    "                        ]) + \"\\n\"\n",
    "                    )"
   ]
  },
  {
   "cell_type": "markdown",
   "metadata": {},
   "source": [
    "### Enjoy!"
   ]
  },
  {
   "cell_type": "code",
   "execution_count": null,
   "metadata": {},
   "outputs": [],
   "source": []
  }
 ],
 "metadata": {
  "interpreter": {
   "hash": "e4a82ea3661bc7c787de9eb5cdbe9eed459e34cb438e1577af780c222a33bc4f"
  },
  "kernelspec": {
   "display_name": "Python 3",
   "language": "python",
   "name": "python3"
  },
  "language_info": {
   "codemirror_mode": {
    "name": "ipython",
    "version": 3
   },
   "file_extension": ".py",
   "mimetype": "text/x-python",
   "name": "python",
   "nbconvert_exporter": "python",
   "pygments_lexer": "ipython3",
   "version": "3.7.4"
  }
 },
 "nbformat": 4,
 "nbformat_minor": 2
}
